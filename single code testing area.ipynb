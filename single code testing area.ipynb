{
 "cells": [
  {
   "cell_type": "code",
   "execution_count": 20,
   "id": "728570ab",
   "metadata": {},
   "outputs": [
    {
     "name": "stdout",
     "output_type": "stream",
     "text": [
      "a: 4\n",
      "true 2\n"
     ]
    }
   ],
   "source": [
    "import pandas as pd\n",
    "df_enrolment = pd.read_excel(\"FLE testing data.xlsx\", sheet_name='CLEAN Data')\n",
    "df_enrolment_filtered_full_Fall=df_enrolment[\n",
    "    (df_enrolment['FULL_PART'].str.replace(' ','').str.upper().isin(['FULL'])) &\n",
    "    (df_enrolment['ACADEMIC_TERM'].str.replace(' ','').str.upper().isin(['FALL'])) &\n",
    "    (df_enrolment['ACADEMIC_YEAR'].astype(str).str.strip() == str(2025)) &\n",
    "    (~df_enrolment['CURRICULUM'].str.replace(' ','').str.upper().isin(['ABC', 'UNKNOWN']))\n",
    "]\n",
    "df_enrolment_filtered_full_Fall\n",
    "\n",
    "headcount_per_curriculum = df_enrolment_filtered_full_Fall.groupby('CURRICULUM')['PEOPLE_CODE_ID'].nunique()\n",
    "headcount_per_curriculumtrueunique = df_enrolment_filtered_full_Fall['PEOPLE_CODE_ID'].nunique()\n",
    "\n",
    "total_headcount = headcount_per_curriculum.sum()\n",
    "print('a:',total_headcount)\n",
    "print('true', headcount_per_curriculumtrueunique)"
   ]
  },
  {
   "cell_type": "code",
   "execution_count": 33,
   "id": "fe88c572",
   "metadata": {},
   "outputs": [
    {
     "data": {
      "text/plain": [
       "'an'"
      ]
     },
     "execution_count": 33,
     "metadata": {},
     "output_type": "execute_result"
    }
   ],
   "source": [
    "variable1 = ' 8.5'\n",
    "try:\n",
    "    if str(variable1).strip().startswith('8'):\n",
    "        a_an = \"an\"\n",
    "    else:\n",
    "        a_an = \"a\"\n",
    "\n",
    "except Exception: \n",
    "    a_an = \"a\"\n",
    "\n",
    "a_an"
   ]
  },
  {
   "cell_type": "code",
   "execution_count": 55,
   "id": "3865f8fb",
   "metadata": {},
   "outputs": [
    {
     "name": "stdout",
     "output_type": "stream",
     "text": [
      "84.7\n"
     ]
    },
    {
     "data": {
      "text/plain": [
       "float"
      ]
     },
     "execution_count": 55,
     "metadata": {},
     "output_type": "execute_result"
    }
   ],
   "source": [
    "variable_Current_enrolment_total_FLE_projection = \"84.700\"\n",
    "Enrolment_total_FLE_projection = float(variable_Current_enrolment_total_FLE_projection)\n",
    "\n",
    "print(Enrolment_total_FLE_projection)\n",
    "type(Enrolment_total_FLE_projection)"
   ]
  },
  {
   "cell_type": "code",
   "execution_count": 56,
   "id": "de1b3ca3",
   "metadata": {},
   "outputs": [
    {
     "data": {
      "text/plain": [
       "'Advanced Care Paramedic'"
      ]
     },
     "execution_count": 56,
     "metadata": {},
     "output_type": "execute_result"
    }
   ],
   "source": [
    "#Program Map for active programs in the current academic year\n",
    "\n",
    "active_program_map = {\n",
    "    #School of University Studies, Career Programs and Academic Upgrading\n",
    "    \"BABUSC\" : \"Business Administration Certificate\",\n",
    "    \"BAACTD\" : \"Business Administration Diploma - Accounting \",\n",
    "    \"BABUSD\" : \"Business Administration Diploma - Management\",\n",
    "    \"BAESPM\" : \"Business Administration Diploma - Esport Management\",\n",
    "    \"BAHRMD\" : \"Business Administration Diploma - Human Resources Management\",\n",
    "    \"GSCMD\" : \"Global Supply Chain Management Diploma\",\n",
    "    \"BAATCO\" : \"Business Administration Diploma - Accounting Co-op\",\n",
    "    \"BABSCO\" : \"Business Administration Diploma - Management Co-op\",\n",
    "    \"HATM\" : \"Hospitality and Tourism Management Diploma\",\n",
    "    \"HOSMNG\" : \"Hospitality Management Diploma\",\n",
    "    \"NAO\" : \"Business Aviation Diploma (Northern Aviation Operations)\",\n",
    "    \"ALO\" : \"Business Aviation Diploma (Airline Operations)\",\n",
    "    \"BAHRMC\" : \"Human Resources Management Certificate\",\n",
    "    \"OFAC\" : \"Office Administration Certificate\",\n",
    "    \"HSAFA\" : \"Academic Foundations\",\n",
    "    \"HSAD\" : \"Advanced High School Equivalency\",\n",
    "    \"HSNP\" : \"College Preparation\",\n",
    "    \"EAP\" : \"English For Academic Purposes\",\n",
    "    \"HSGD\" : \"General High School Equivalency\",\n",
    "    \"UTELEM\" : \"University Transfer: Bachelor of Elementary Education\",\n",
    "    \"UTSEC\" : \"University Transfer: Bachelor of Secondary Education\",\n",
    "    \"ENVTD\" : \"Environmental Technology Co-op Diploma\",\n",
    "    \"ENVNC\" : \"Environmental Technology Diploma\",\n",
    "    \"COMSCC\" : \"Computer Systems Technology Certificate\",\n",
    "    \"COMSCD\" : \"Computer Systems Technology Diploma\",\n",
    "    \"GNARTC\" : \"General Arts Certificate\",\n",
    "    \"GNSCIC\" : \"General Science Certificate\",\n",
    "    \"GOVNSC\" : \"Governance and Civil Studies Diploma\",\n",
    "    \"NSPDC\" : \"Network Security Post-Diploma Certificate\",\n",
    "    \"UTARTS\" : \"University Transfer: Bachelor of Arts\",\n",
    "    \"UTCOMM\" : \"University Transfer: Bachelor of Commerce\",\n",
    "    \"UTENG\" : \"University Transfer: Bachelor of Engineering\",\n",
    "    \"UTSCGS\" : \"University Transfer: Bachelor of Science\",\n",
    "    \"UTSCWK\" : \"University Transfer: Bachelor of Social Work\",\n",
    "    \"OPEN\" : \"Open Studies\",\n",
    "\n",
    "    #School of Health & Human Services \n",
    "    \"AELCC\" : \"Applied Early Learning and Child Care Certificate\",\n",
    "    \"ECCERT\" : \"Early Learning and Child Care Certificate\",\n",
    "    \"ECDIP\" : \"Early Learning and Child Care Diploma\",\n",
    "    \"CYCD\" : \"Child and Youth Care Diploma\",\n",
    "    \"ECEAC\" : \"Educational Assistant Certificate\",\n",
    "    \"SOCWKD\" : \"Social Work Diploma\",\n",
    "    \"HCAC\" : \"Health Care Aide\",\n",
    "    \"ACP\" : \"Advanced Care Paramedic\",\n",
    "    \"PCPC\" : \"Primary Care Paramedic\",\n",
    "    \"PNR\" : \"Practical Nurse Diploma\",\n",
    "    \"BSCN\" : \"University Transfer: Bachelor of Nursing\",\n",
    "    \"BSCACN\" : \"University Transfer: Bachelor of Nursing\",\n",
    "    \"BSCAFT\" : \"University Transfer: Bachelor of Nursing\",\n",
    "    \"BSCAEE\" : \"University Transfer: Bachelor of Nursing\",\n",
    "    \"IENCN\" : \"IEN Bridge to Canadian Nursing\",\n",
    "\n",
    "    #School of Trades and Heavy Industrial\n",
    "    \"AELEC\" : \"Apprenticeship Electrician\",\n",
    "    \"AHD\" : \"Apprenticeship Heavy Equipment Technician\",\n",
    "    \"AMILL\" : \"Apprenticeship Industrial Mechanic (Millwright)\",\n",
    "    \"ASTEAM\" : \"Apprenticeship Steamfitter-Pipefitter\",\n",
    "    \"AWELD\" : \"Apprenticeship Welder\",\n",
    "    \"POWCM3\" : \"Power Engineering 3rd Class CML\",\n",
    "    \"POWCM4\" : \"Power Engineering 4th Class CML\",\n",
    "    \"POWCO3\" : \"Power Engineering 3rd Class Co-op\",\n",
    "    \"POWCO4\" : \"Power Engineering 4th Class Co-op\",\n",
    "    \"POWCP4\" : \"Power Engineering 4th Class Comprehensive\",\n",
    "    \"PPET\" : \"Power and Process Technologies\",\n",
    "    \"PACARP\" : \"Pre-employment Carpentry\",\n",
    "    \"PAELEC\" : \"Pre-employment Electrician\",\n",
    "    \"PAHET\" : \"Pre-employment HET\",\n",
    "    \"PAPLUM\" : \"Pre-employment Gasfitter\",\n",
    "    \"PAWELD\" : \"Pre-employment Welder\",\n",
    "\n",
    "    #Language Instruction for Newcomers to Canada (LINC)\n",
    "    \"LINC13\" : \"Language Instruction for Newcomers to Canada\"\n",
    "}\n",
    "\n",
    "variable1 = \"ACP\"\n",
    "variable2 = active_program_map[variable1]\n",
    "variable2"
   ]
  },
  {
   "cell_type": "code",
   "execution_count": 2,
   "id": "21ff6cb5",
   "metadata": {},
   "outputs": [
    {
     "ename": "ValueError",
     "evalue": "time data 'February 25, 2026' does not match format '%b %d, %Y'",
     "output_type": "error",
     "traceback": [
      "\u001b[1;31m---------------------------------------------------------------------------\u001b[0m",
      "\u001b[1;31mValueError\u001b[0m                                Traceback (most recent call last)",
      "Cell \u001b[1;32mIn[2], line 3\u001b[0m\n\u001b[0;32m      1\u001b[0m \u001b[38;5;28;01mfrom\u001b[39;00m \u001b[38;5;21;01mdatetime\u001b[39;00m \u001b[38;5;28;01mimport\u001b[39;00m datetime\n\u001b[0;32m      2\u001b[0m variable_Extraction_date \u001b[38;5;241m=\u001b[39m \u001b[38;5;124m\"\u001b[39m\u001b[38;5;124mFebruary 25, 2026\u001b[39m\u001b[38;5;124m\"\u001b[39m\n\u001b[1;32m----> 3\u001b[0m parsed_Extraction_date \u001b[38;5;241m=\u001b[39m \u001b[43mdatetime\u001b[49m\u001b[38;5;241;43m.\u001b[39;49m\u001b[43mstrptime\u001b[49m\u001b[43m(\u001b[49m\u001b[43mvariable_Extraction_date\u001b[49m\u001b[43m,\u001b[49m\u001b[43m \u001b[49m\u001b[38;5;124;43m\"\u001b[39;49m\u001b[38;5;124;43m%\u001b[39;49m\u001b[38;5;124;43mb \u001b[39;49m\u001b[38;5;132;43;01m%d\u001b[39;49;00m\u001b[38;5;124;43m, \u001b[39;49m\u001b[38;5;124;43m%\u001b[39;49m\u001b[38;5;124;43mY\u001b[39;49m\u001b[38;5;124;43m\"\u001b[39;49m\u001b[43m)\u001b[49m\n",
      "File \u001b[1;32mc:\\Users\\Bill.Guo\\AppData\\Local\\Programs\\Python\\Python313\\Lib\\_strptime.py:573\u001b[0m, in \u001b[0;36m_strptime_datetime\u001b[1;34m(cls, data_string, format)\u001b[0m\n\u001b[0;32m    570\u001b[0m \u001b[38;5;28;01mdef\u001b[39;00m \u001b[38;5;21m_strptime_datetime\u001b[39m(\u001b[38;5;28mcls\u001b[39m, data_string, \u001b[38;5;28mformat\u001b[39m\u001b[38;5;241m=\u001b[39m\u001b[38;5;124m\"\u001b[39m\u001b[38;5;132;01m%a\u001b[39;00m\u001b[38;5;124m \u001b[39m\u001b[38;5;124m%\u001b[39m\u001b[38;5;124mb \u001b[39m\u001b[38;5;132;01m%d\u001b[39;00m\u001b[38;5;124m \u001b[39m\u001b[38;5;124m%\u001b[39m\u001b[38;5;124mH:\u001b[39m\u001b[38;5;124m%\u001b[39m\u001b[38;5;124mM:\u001b[39m\u001b[38;5;124m%\u001b[39m\u001b[38;5;124mS \u001b[39m\u001b[38;5;124m%\u001b[39m\u001b[38;5;124mY\u001b[39m\u001b[38;5;124m\"\u001b[39m):\n\u001b[0;32m    571\u001b[0m \u001b[38;5;250m    \u001b[39m\u001b[38;5;124;03m\"\"\"Return a class cls instance based on the input string and the\u001b[39;00m\n\u001b[0;32m    572\u001b[0m \u001b[38;5;124;03m    format string.\"\"\"\u001b[39;00m\n\u001b[1;32m--> 573\u001b[0m     tt, fraction, gmtoff_fraction \u001b[38;5;241m=\u001b[39m \u001b[43m_strptime\u001b[49m\u001b[43m(\u001b[49m\u001b[43mdata_string\u001b[49m\u001b[43m,\u001b[49m\u001b[43m \u001b[49m\u001b[38;5;28;43mformat\u001b[39;49m\u001b[43m)\u001b[49m\n\u001b[0;32m    574\u001b[0m     tzname, gmtoff \u001b[38;5;241m=\u001b[39m tt[\u001b[38;5;241m-\u001b[39m\u001b[38;5;241m2\u001b[39m:]\n\u001b[0;32m    575\u001b[0m     args \u001b[38;5;241m=\u001b[39m tt[:\u001b[38;5;241m6\u001b[39m] \u001b[38;5;241m+\u001b[39m (fraction,)\n",
      "File \u001b[1;32mc:\\Users\\Bill.Guo\\AppData\\Local\\Programs\\Python\\Python313\\Lib\\_strptime.py:352\u001b[0m, in \u001b[0;36m_strptime\u001b[1;34m(data_string, format)\u001b[0m\n\u001b[0;32m    350\u001b[0m found \u001b[38;5;241m=\u001b[39m format_regex\u001b[38;5;241m.\u001b[39mmatch(data_string)\n\u001b[0;32m    351\u001b[0m \u001b[38;5;28;01mif\u001b[39;00m \u001b[38;5;129;01mnot\u001b[39;00m found:\n\u001b[1;32m--> 352\u001b[0m     \u001b[38;5;28;01mraise\u001b[39;00m \u001b[38;5;167;01mValueError\u001b[39;00m(\u001b[38;5;124m\"\u001b[39m\u001b[38;5;124mtime data \u001b[39m\u001b[38;5;132;01m%r\u001b[39;00m\u001b[38;5;124m does not match format \u001b[39m\u001b[38;5;132;01m%r\u001b[39;00m\u001b[38;5;124m\"\u001b[39m \u001b[38;5;241m%\u001b[39m\n\u001b[0;32m    353\u001b[0m                      (data_string, \u001b[38;5;28mformat\u001b[39m))\n\u001b[0;32m    354\u001b[0m \u001b[38;5;28;01mif\u001b[39;00m \u001b[38;5;28mlen\u001b[39m(data_string) \u001b[38;5;241m!=\u001b[39m found\u001b[38;5;241m.\u001b[39mend():\n\u001b[0;32m    355\u001b[0m     \u001b[38;5;28;01mraise\u001b[39;00m \u001b[38;5;167;01mValueError\u001b[39;00m(\u001b[38;5;124m\"\u001b[39m\u001b[38;5;124munconverted data remains: \u001b[39m\u001b[38;5;132;01m%s\u001b[39;00m\u001b[38;5;124m\"\u001b[39m \u001b[38;5;241m%\u001b[39m\n\u001b[0;32m    356\u001b[0m                       data_string[found\u001b[38;5;241m.\u001b[39mend():])\n",
      "\u001b[1;31mValueError\u001b[0m: time data 'February 25, 2026' does not match format '%b %d, %Y'"
     ]
    }
   ],
   "source": [
    "from datetime import datetime\n",
    "variable_Extraction_date = \"February 25, 2026\"\n",
    "parsed_Extraction_date = datetime.strptime(variable_Extraction_date, \"%b %d, %Y\")"
   ]
  }
 ],
 "metadata": {
  "kernelspec": {
   "display_name": "Python 3",
   "language": "python",
   "name": "python3"
  },
  "language_info": {
   "codemirror_mode": {
    "name": "ipython",
    "version": 3
   },
   "file_extension": ".py",
   "mimetype": "text/x-python",
   "name": "python",
   "nbconvert_exporter": "python",
   "pygments_lexer": "ipython3",
   "version": "3.13.0"
  }
 },
 "nbformat": 4,
 "nbformat_minor": 5
}
