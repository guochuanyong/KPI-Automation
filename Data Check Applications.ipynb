{
 "cells": [
  {
   "cell_type": "code",
   "execution_count": 6,
   "id": "c80c631b",
   "metadata": {},
   "outputs": [],
   "source": [
    "#Import Modules\n",
    "\n",
    "import pandas as pd\n",
    "import numpy as np\n",
    "import openpyxl\n",
    "from openpyxl import load_workbook\n",
    "from openpyxl.utils import column_index_from_string\n",
    "import re\n",
    "\n",
    "#Load files. The file names must match exactly the names of the application data files. Manual Input Required.\n",
    "\n",
    "term_1_file_application_comparative = \"zzzTestingData-Application Comparative -Fall 2025 as of June 02, 2025.xlsx\"\n",
    "term_1_file_application_details = \"yApplications Reports Details-IR-New-Summer 2025 as of June 02, 2025.xlsx\"\n",
    "\n",
    "term_2_file_application_comparative = \"yApplication Comparative -Fall 2025 as of June 02, 2025.xlsx\"\n",
    "term_2_file_application_details = \"yApplications Reports Details-IR-New-Fall 2025 as of June 02, 2025.xlsx\"\n",
    "\n",
    "term_3_file_application_comparative = \"yApplication Comparative -Winter 2026 as of June 02, 2025.xlsx\"\n",
    "term_3_file_application_details = \"yApplications Reports Details-IR-New-Winter 2026 as of June 02, 2025.xlsx\"\n",
    "\n",
    "term_4_file_application_comparative = \"yApplication Comparative -Spring 2026 as of June 02, 2025.xlsx\"\n",
    "term_4_file_application_details = \"yApplications Reports Details-IR-New-Spring 2026 as of June 02, 2025.xlsx\""
   ]
  },
  {
   "cell_type": "code",
   "execution_count": 7,
   "id": "cc8b8a99",
   "metadata": {},
   "outputs": [],
   "source": [
    "#Functions\n",
    "\n",
    "#Check if an Excel file has more than 1 sheet\n",
    "def check_single_sheet(file_path):\n",
    "    try:\n",
    "        # Load the Excel workbook\n",
    "        wb = openpyxl.load_workbook(file_path, read_only=True)\n",
    "\n",
    "        # Get all sheet names\n",
    "        sheet_names = wb.sheetnames\n",
    "\n",
    "        # Check if there is only one sheet\n",
    "        if len(sheet_names) != 1:\n",
    "            print(f\"❌ Error: Expected 1 sheet, but found {len(sheet_names)} sheets: {sheet_names}\")\n",
    "        else:\n",
    "            print(f\"✅ File loaded successfully. Sheet name: {sheet_names[0]}\")\n",
    "        \n",
    "        wb.close()\n",
    "        \n",
    "    except Exception as e:\n",
    "        print(f\"❌ Failed to load Excel file: {e}\")\n"
   ]
  },
  {
   "cell_type": "code",
   "execution_count": 8,
   "id": "ea3bcdde",
   "metadata": {},
   "outputs": [
    {
     "name": "stdout",
     "output_type": "stream",
     "text": [
      "❌ Error: Expected 1 sheet, but found 2 sheets: ['Application Comparative', 'Sheet1']\n"
     ]
    }
   ],
   "source": [
    "check_single_sheet(term_1_file_application_comparative)"
   ]
  },
  {
   "cell_type": "code",
   "execution_count": 9,
   "id": "4fa8e2bb",
   "metadata": {},
   "outputs": [],
   "source": [
    "#Errors and Warnings Explained\n",
    "\n",
    "#Errors must be fixed before automation is run\n",
    "#Warnings should be investigated, fix is not necessary for automation to run"
   ]
  },
  {
   "cell_type": "code",
   "execution_count": 10,
   "id": "fed86cd3",
   "metadata": {},
   "outputs": [],
   "source": [
    "#Data check term_1_file_application_comparative\n",
    "\n",
    "#Empty lists for storing found errors and warnings\n",
    "term_1_file_application_comparative_errors = []\n",
    "term_1_file_application_comparative_warnings = []\n",
    "term_1_file_application_details_errors = []\n",
    "term_1_file_application_details_warnings = []\n",
    "\n",
    "term_2_file_application_comparative_errors = []\n",
    "term_2_file_application_comparative_warnings = []\n",
    "term_2_file_application_details_errors = []\n",
    "term_2_file_application_details_warnings = []\n",
    "\n",
    "term_3_file_application_comparative_errors = []\n",
    "term_3_file_application_comparative_warnings = []\n",
    "term_3_file_application_details_errors = []\n",
    "term_3_file_application_details_warnings = []\n",
    "\n",
    "term_4_file_application_comparative_errors = []\n",
    "term_4_file_application_comparative_warnings = []\n",
    "term_4_file_application_details_errors = []\n",
    "term_4_file_application_details_warnings = []\n",
    "\n"
   ]
  }
 ],
 "metadata": {
  "kernelspec": {
   "display_name": "Python 3",
   "language": "python",
   "name": "python3"
  },
  "language_info": {
   "codemirror_mode": {
    "name": "ipython",
    "version": 3
   },
   "file_extension": ".py",
   "mimetype": "text/x-python",
   "name": "python",
   "nbconvert_exporter": "python",
   "pygments_lexer": "ipython3",
   "version": "3.13.0"
  }
 },
 "nbformat": 4,
 "nbformat_minor": 5
}
