{
 "cells": [
  {
   "cell_type": "code",
   "execution_count": 1,
   "id": "cb0086b2",
   "metadata": {},
   "outputs": [
    {
     "data": {
      "text/plain": [
       "str"
      ]
     },
     "execution_count": 1,
     "metadata": {},
     "output_type": "execute_result"
    }
   ],
   "source": [
    "#Don't delete this, keep this here for now I will use it later\n",
    "variable1 = \"2025-26\"  # guaranteed input format\n",
    "\n",
    "# Split and extract last 2 digits of the first part\n",
    "parts = variable1.split(\"-\")\n",
    "variable2 = f\"{parts[0][-2:]}-{parts[1]}\"\n",
    "\n",
    "type(variable2)  # Output: \"25-26\""
   ]
  },
  {
   "cell_type": "code",
   "execution_count": 2,
   "id": "50fcfe81",
   "metadata": {},
   "outputs": [],
   "source": [
    "#Import Modules\n",
    "\n",
    "import pandas as pd\n",
    "import numpy as np\n",
    "import openpyxl\n",
    "from openpyxl import load_workbook\n",
    "from openpyxl.utils import column_index_from_string\n",
    "import re"
   ]
  },
  {
   "cell_type": "code",
   "execution_count": 3,
   "id": "514c3fa5",
   "metadata": {},
   "outputs": [],
   "source": [
    "#Load files. The file names must match exactly the names of the application data files. Manual Input Required.\n",
    "\n",
    "enrolment_file_current_year = \"yFLE as of June 02, 2025.xlsx\"\n",
    "enrolment_file_FLE_Heacount_projections = \"Current Academic Year FLE Headcount Projections.xlsx\"\n",
    "\n",
    "#Manually define variables\n",
    "variable_Extraction_date = \"June 02, 2025\" #Enter date of data extraction. Format: \"Month DD, YYYY\"\n",
    "variable_range_applications_academic_year = \"2025-26\" #Enter the academic year(s) of your application data. Format: \"YYYY-YY\" or \"YYYY-YY & YYYY-YY\"\n",
    "variable_current_academic_year_file_name = \"2025-26\" #Enter academic year for output file name. Format: \"YYYY-YY\"\n",
    "\n",
    "variable_Current_enrolment_academic_year = \"2025-26\" #Enter the current academic year. Format: \"YYYY-YY\""
   ]
  },
  {
   "cell_type": "code",
   "execution_count": 4,
   "id": "fbde5373",
   "metadata": {},
   "outputs": [],
   "source": [
    "#Extract relevant FLE and Headcount values from Projections file"
   ]
  },
  {
   "cell_type": "code",
   "execution_count": 5,
   "id": "a27d198e",
   "metadata": {},
   "outputs": [],
   "source": [
    "# Fill in Enrolment KPI Excel Document\n",
    "# Load Excel template\n",
    "template_path = \"KC 2025-26 Enrolments KPI_TEMPLATE.xlsx\"\n",
    "wb = openpyxl.load_workbook(template_path)\n",
    "\n",
    "# Map\n",
    "variable_map = {\n",
    "    \"test_1\": 50,\n",
    "    \"test_2\": 80\n",
    "}\n",
    "\n",
    "# Regular expression to detect {{variable}} patterns\n",
    "pattern = re.compile(r\"{{(.*?)}}\")\n",
    "\n",
    "# Loop through all worksheets and replace variables\n",
    "for ws in wb.worksheets:\n",
    "    for row in ws.iter_rows():\n",
    "        for cell in row:\n",
    "            if isinstance(cell.value, str):\n",
    "                matches = pattern.findall(cell.value)\n",
    "                for match in matches:\n",
    "                    if match in variable_map:\n",
    "                        replacement = variable_map[match]\n",
    "                        if cell.value.strip() == f\"{{{{{match}}}}}\":  # Entire cell is just the variable\n",
    "                            cell.value = replacement  # Assign number directly if numeric\n",
    "                        else:\n",
    "                            cell.value = cell.value.replace(f\"{{{{{match}}}}}\", str(replacement))\n",
    "\n",
    "# Rename sheets by replacing placeholders in their names\n",
    "for ws in wb.worksheets:\n",
    "    matches = pattern.findall(ws.title)\n",
    "    new_title = ws.title\n",
    "    for match in matches:\n",
    "        if match in variable_map:\n",
    "            new_title = new_title.replace(f\"{{{{{match}}}}}\", str(variable_map[match]))\n",
    "    if new_title != ws.title:\n",
    "        ws.title = new_title\n",
    "\n",
    "# Save to new file\n",
    "output_filename = f\"KC {variable_current_academic_year_file_name} Enrolments KPI as of {variable_Extraction_date}.xlsx\"\n",
    "wb.save(output_filename)"
   ]
  }
 ],
 "metadata": {
  "kernelspec": {
   "display_name": "Python 3",
   "language": "python",
   "name": "python3"
  },
  "language_info": {
   "codemirror_mode": {
    "name": "ipython",
    "version": 3
   },
   "file_extension": ".py",
   "mimetype": "text/x-python",
   "name": "python",
   "nbconvert_exporter": "python",
   "pygments_lexer": "ipython3",
   "version": "3.13.0"
  }
 },
 "nbformat": 4,
 "nbformat_minor": 5
}
