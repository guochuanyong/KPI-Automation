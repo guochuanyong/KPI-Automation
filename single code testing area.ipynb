{
 "cells": [
  {
   "cell_type": "code",
   "execution_count": 11,
   "id": "8f4cefec",
   "metadata": {},
   "outputs": [
    {
     "name": "stdout",
     "output_type": "stream",
     "text": [
      "Term 1: zTestingData-Applications Reports Details-IR-New-Summer 2025 as of June 02, 2025.xlsx\n",
      "Term 2: zTestingData-Applications Reports Details-IR-New-Fall 2025 as of June 02, 2025.xlsx\n",
      "Term 3: zTestingData-Applications Reports Details-IR-New-Winter 2026 as of June 02, 2025.xlsx\n",
      "Term 4: zTestingData-Applications Reports Details-IR-New-Spring 2026 as of June 02, 2025.xlsx\n"
     ]
    }
   ],
   "source": [
    "import os\n",
    "import re\n",
    "\n",
    "term_order = {\"Winter\": 1, \"Spring\": 2, \"Summer\": 3, \"Fall\": 4}\n",
    "\n",
    "def extract_term_and_year(filename):\n",
    "    match = re.search(r\"(Winter|Spring|Summer|Fall)\\s*(\\d{4})\", filename, re.IGNORECASE)\n",
    "    if match:\n",
    "        term = match.group(1).capitalize()\n",
    "        year = int(match.group(2))\n",
    "        return (year, term_order[term])\n",
    "    return None\n",
    "\n",
    "def get_chronological_application_comparative_files(folder_path):\n",
    "    files = os.listdir(folder_path)\n",
    "    matched_files = []\n",
    "\n",
    "    for file in files:\n",
    "        if not file.lower().endswith(\".xlsx\"):\n",
    "            continue\n",
    "        if re.search(r\"applications?\\s*reports?\\s*details?\", file, re.IGNORECASE):\n",
    "            term_info = extract_term_and_year(file)\n",
    "            if term_info:\n",
    "                matched_files.append((term_info, os.path.join(folder_path, file)))\n",
    "\n",
    "    if len(matched_files) != 4:\n",
    "        raise ValueError(f\"Expected exactly 4 'Application Comparative' files, found {len(matched_files)}.\")\n",
    "\n",
    "    matched_files.sort(key=lambda x: (x[0][0], x[0][1]))\n",
    "\n",
    "    return [os.path.basename(f[1]) for f in matched_files]\n",
    "\n",
    "data_folder = \"Data Files\"\n",
    "\n",
    "(\n",
    "    term_1_file_application_comparative,\n",
    "    term_2_file_application_comparative,\n",
    "    term_3_file_application_comparative,\n",
    "    term_4_file_application_comparative,\n",
    ") = get_chronological_application_comparative_files(data_folder)\n",
    "\n",
    "print(\"Term 1:\", term_1_file_application_comparative)\n",
    "print(\"Term 2:\", term_2_file_application_comparative)\n",
    "print(\"Term 3:\", term_3_file_application_comparative)\n",
    "print(\"Term 4:\", term_4_file_application_comparative)\n"
   ]
  }
 ],
 "metadata": {
  "kernelspec": {
   "display_name": "Python 3",
   "language": "python",
   "name": "python3"
  },
  "language_info": {
   "codemirror_mode": {
    "name": "ipython",
    "version": 3
   },
   "file_extension": ".py",
   "mimetype": "text/x-python",
   "name": "python",
   "nbconvert_exporter": "python",
   "pygments_lexer": "ipython3",
   "version": "3.13.0"
  }
 },
 "nbformat": 4,
 "nbformat_minor": 5
}
