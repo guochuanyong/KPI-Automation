{
 "cells": [
  {
   "cell_type": "code",
   "execution_count": 26,
   "id": "8cb73b47",
   "metadata": {},
   "outputs": [],
   "source": [
    "from docxtpl import DocxTemplate\n",
    "from docx.shared import RGBColor\n",
    "\n",
    "# Load the Word template\n",
    "doc = DocxTemplate(\"Briefing Note - KC Applications and Enrolments KPI Update_TEMPLATE.docx\")\n",
    "\n",
    "# Define your values\n",
    "raw_data = {\n",
    "    \"Prepared_for\": \"Dean’s Council & Other Stakeholders\",\n",
    "    \"Title_1\": \"Keyano College Enrolment KPI Update\",\n",
    "    \"Date_prepared\": \"May 03, 2025\",\n",
    "    \"Prepared_by\": \"Bill Guo, Aman Debesay\",\n",
    "    \"Title_2\": \"Institutional Research Analyst\",\n",
    "    \"Department\": \"Institutional Research\",\n",
    "    \"Extraction_date\": \"May 01, 2025\", \n",
    "    \"Applications_header_1\": \"Summer 2025\",\n",
    "    \"Applications_header_2\": \"Summer 2024\",\n",
    "    \"Applications_header_3\": 3,\n",
    "    \"Applications_header_4\": 4,\n",
    "    \"Applications_header_5\": 5,\n",
    "    \"Applications_header_6\": -6,\n",
    "}\n",
    "\n",
    "# Utility: check if a value is negative\n",
    "def is_negative(value):\n",
    "    if isinstance(value, (int, float)):\n",
    "        return value < 0\n",
    "    if isinstance(value, str):\n",
    "        try:\n",
    "            return float(value.strip('%')) < 0\n",
    "        except:\n",
    "            return False\n",
    "    return False\n",
    "\n",
    "# Prepare context with red formatting for negative values\n",
    "context = {}\n",
    "for key, value in raw_data.items():\n",
    "    if is_negative(value):\n",
    "        # Apply red color to negative values\n",
    "        context[key] = f\"<w:r><w:rPr><w:color w:val='FF0000' /></w:rPr><w:t>{value}</w:t></w:r>\"\n",
    "    else:\n",
    "        context[key] = value\n",
    "\n",
    "# Render the template with context\n",
    "doc.render(context)\n",
    "\n",
    "# Save output to a new document\n",
    "doc.save(\"output.docx\")\n"
   ]
  }
 ],
 "metadata": {
  "kernelspec": {
   "display_name": "Python 3",
   "language": "python",
   "name": "python3"
  },
  "language_info": {
   "codemirror_mode": {
    "name": "ipython",
    "version": 3
   },
   "file_extension": ".py",
   "mimetype": "text/x-python",
   "name": "python",
   "nbconvert_exporter": "python",
   "pygments_lexer": "ipython3",
   "version": "3.13.0"
  }
 },
 "nbformat": 4,
 "nbformat_minor": 5
}
