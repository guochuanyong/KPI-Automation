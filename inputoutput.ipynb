{
 "cells": [
  {
   "cell_type": "code",
   "execution_count": 12,
   "id": "08d136f7",
   "metadata": {},
   "outputs": [],
   "source": [
    "#Import Modules\n",
    "\n",
    "import pandas as pd\n",
    "import numpy as np\n",
    "import openpyxl\n",
    "from openpyxl import load_workbook\n",
    "from openpyxl.utils import column_index_from_string\n",
    "import re\n",
    "from docxtpl import DocxTemplate\n",
    "from docx.shared import RGBColor\n",
    "from datetime import datetime\n",
    "\n",
    "\n",
    "\n",
    "doc = DocxTemplate(\"input.docx\")\n",
    "bullet_items = ['apple', 'orange', 'banana']\n",
    "hollow_bullet = '⚬'  # You can also try '○' or '⚬' if you prefer\n",
    "space = '\\u00A0' * 3  # 3 non-breaking spaces\n",
    "bullet_points = '\\n'.join([f'{hollow_bullet}{space}{item}' for item in bullet_items])\n",
    "\n",
    "raw_data = {\n",
    "\n",
    "    \"bullet_points\": bullet_points\n",
    "}\n",
    "\n",
    "\n",
    "def is_negative(value):\n",
    "    if isinstance(value, (int, float)):\n",
    "        return value < 0\n",
    "    if isinstance(value, str):\n",
    "        try:\n",
    "            return float(value.strip('%')) < 0\n",
    "        except:\n",
    "            return False\n",
    "    return False\n",
    "\n",
    "\n",
    "context = {}\n",
    "for key, value in raw_data.items():\n",
    "    if is_negative(value):\n",
    "\n",
    "        context[key] = f\"<w:r><w:rPr><w:color w:val='FF0000' /></w:rPr><w:t>{value}</w:t></w:r>\"\n",
    "    else:\n",
    "        context[key] = value\n",
    "\n",
    "\n",
    "\n",
    "doc.render(context)\n",
    "\n",
    "\n",
    "briefing_note_file_name = \"output.docx\"\n",
    "doc.save(briefing_note_file_name)"
   ]
  }
 ],
 "metadata": {
  "kernelspec": {
   "display_name": "Python 3",
   "language": "python",
   "name": "python3"
  },
  "language_info": {
   "codemirror_mode": {
    "name": "ipython",
    "version": 3
   },
   "file_extension": ".py",
   "mimetype": "text/x-python",
   "name": "python",
   "nbconvert_exporter": "python",
   "pygments_lexer": "ipython3",
   "version": "3.13.3"
  }
 },
 "nbformat": 4,
 "nbformat_minor": 5
}
