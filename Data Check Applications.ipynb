{
 "cells": [
  {
   "cell_type": "code",
   "execution_count": 32,
   "id": "c80c631b",
   "metadata": {},
   "outputs": [],
   "source": [
    "#Import Modules\n",
    "\n",
    "import os\n",
    "import pandas as pd\n",
    "import numpy as np\n",
    "import openpyxl\n",
    "from openpyxl import load_workbook\n",
    "from openpyxl.utils import column_index_from_string\n",
    "import re"
   ]
  },
  {
   "cell_type": "code",
   "execution_count": 33,
   "id": "cc8b8a99",
   "metadata": {},
   "outputs": [],
   "source": [
    "#Functions\n",
    "\n",
    "#Check if an Excel file has more than 1 sheet\n",
    "def check_single_sheet(file_path):\n",
    "    try:\n",
    "        # Load the Excel workbook\n",
    "        wb = openpyxl.load_workbook(file_path, read_only=True)\n",
    "\n",
    "        # Get all sheet names\n",
    "        sheet_names = wb.sheetnames\n",
    "\n",
    "        # Check if there is only one sheet\n",
    "        if len(sheet_names) != 1:\n",
    "            print(f\"❌ Error: File {file_path} should only have 1 sheet, but found {len(sheet_names)} sheets: {sheet_names}\")\n",
    "        else:\n",
    "            print(f\"✅ File {file_path} loaded successfully. Sheet name: {sheet_names[0]}\")\n",
    "        \n",
    "        wb.close()\n",
    "        \n",
    "    except Exception as e:\n",
    "        print(f\"❌ Failed to load Excel file: {e}\")\n"
   ]
  },
  {
   "cell_type": "code",
   "execution_count": 34,
   "id": "4fa8e2bb",
   "metadata": {},
   "outputs": [],
   "source": [
    "#Errors and Warnings Explained\n",
    "\n",
    "#Errors must be fixed before automation is run\n",
    "#Warnings should be investigated, fix is not necessary for automation to run"
   ]
  },
  {
   "cell_type": "code",
   "execution_count": 35,
   "id": "b79f3c20",
   "metadata": {},
   "outputs": [
    {
     "name": "stdout",
     "output_type": "stream",
     "text": [
      "Term 1 Application Comparative: Data Files\\zTestingData-Application Comparative -Summer 2025 as of June 02, 2025.xlsx\n",
      "Term 2 Application Comparative: Data Files\\zTestingData-Application Comparative -Fall 2025 as of June 02, 2025.xlsx\n",
      "Term 3 Application Comparative: Data Files\\zTestingData-Application Comparative -Winter 2026 as of June 02, 2025.xlsx\n",
      "Term 4 Application Comparative: Data Files\\zTestingData-Application Comparative -Spring 2026 as of June 02, 2025.xlsx\n"
     ]
    }
   ],
   "source": [
    "#Search in the folder 'Data Files' for 4 application comparative files, and assign them to 4 variables chronologically\n",
    "\n",
    "term_order = {\"Winter\": 1, \"Spring\": 2, \"Summer\": 3, \"Fall\": 4}\n",
    "\n",
    "def extract_term_and_year(filename):\n",
    "    match = re.search(r\"(Winter|Spring|Summer|Fall)\\s*(\\d{4})\", filename, re.IGNORECASE)\n",
    "    if match:\n",
    "        term = match.group(1).capitalize()\n",
    "        year = int(match.group(2))\n",
    "        return (year, term_order[term])\n",
    "    return None\n",
    "\n",
    "def get_chronological_application_comparative_files(folder_path):\n",
    "    files = os.listdir(folder_path)\n",
    "    matched_files = []\n",
    "\n",
    "    for file in files:\n",
    "        if not file.lower().endswith(\".xlsx\"):\n",
    "            continue\n",
    "        if re.search(r\"applications?\\s*comparative\", file, re.IGNORECASE):\n",
    "            term_info = extract_term_and_year(file)\n",
    "            if term_info:\n",
    "                matched_files.append((term_info, os.path.join(folder_path, file)))\n",
    "\n",
    "    if len(matched_files) != 4:\n",
    "        raise ValueError(f\"Expected exactly 4 'Application Comparative' files, found {len(matched_files)}.\")\n",
    "\n",
    "    matched_files.sort(key=lambda x: (x[0][0], x[0][1]))\n",
    "\n",
    "    return [f[1] for f in matched_files]\n",
    "\n",
    "data_folder = \"Data Files\"\n",
    "\n",
    "(\n",
    "    term_1_file_application_comparative_filename,\n",
    "    term_2_file_application_comparative_filename,\n",
    "    term_3_file_application_comparative_filename,\n",
    "    term_4_file_application_comparative_filename,\n",
    ") = get_chronological_application_comparative_files(data_folder)\n",
    "\n",
    "print(\"Term 1 Application Comparative:\", term_1_file_application_comparative_filename)\n",
    "print(\"Term 2 Application Comparative:\", term_2_file_application_comparative_filename)\n",
    "print(\"Term 3 Application Comparative:\", term_3_file_application_comparative_filename)\n",
    "print(\"Term 4 Application Comparative:\", term_4_file_application_comparative_filename)"
   ]
  },
  {
   "cell_type": "code",
   "execution_count": 36,
   "id": "d2c8827b",
   "metadata": {},
   "outputs": [
    {
     "name": "stdout",
     "output_type": "stream",
     "text": [
      "Term 1 Applications Reports Details: Data Files\\zTestingData-Applications Reports Details-IR-New-Summer 2025 as of June 02, 2025.xlsx\n",
      "Term 2 Applications Reports Details: Data Files\\zTestingData-Applications Reports Details-IR-New-Fall 2025 as of June 02, 2025.xlsx\n",
      "Term 3 Applications Reports Details: Data Files\\zTestingData-Applications Reports Details-IR-New-Winter 2026 as of June 02, 2025.xlsx\n",
      "Term 4 Applications Reports Details: Data Files\\zTestingData-Applications Reports Details-IR-New-Spring 2026 as of June 02, 2025.xlsx\n"
     ]
    }
   ],
   "source": [
    "#Search in the folder 'Data Files' for 4 application details files, and assign them to 4 variables chronologically\n",
    "\n",
    "term_order = {\"Winter\": 1, \"Spring\": 2, \"Summer\": 3, \"Fall\": 4}\n",
    "\n",
    "def extract_term_and_year(filename):\n",
    "    match = re.search(r\"(Winter|Spring|Summer|Fall)\\s*(\\d{4})\", filename, re.IGNORECASE)\n",
    "    if match:\n",
    "        term = match.group(1).capitalize()\n",
    "        year = int(match.group(2))\n",
    "        return (year, term_order[term])\n",
    "    return None\n",
    "\n",
    "def get_chronological_applications_reports_details_files(folder_path):\n",
    "    files = os.listdir(folder_path)\n",
    "    matched_files = []\n",
    "\n",
    "    for file in files:\n",
    "        if not file.lower().endswith(\".xlsx\"):\n",
    "            continue\n",
    "        if re.search(r\"applications?\\s*reports?\\s*details?\", file, re.IGNORECASE):\n",
    "            term_info = extract_term_and_year(file)\n",
    "            if term_info:\n",
    "                matched_files.append((term_info, os.path.join(folder_path, file)))\n",
    "\n",
    "    if len(matched_files) != 4:\n",
    "        raise ValueError(f\"Expected exactly 4 'Application Comparative' files, found {len(matched_files)}.\")\n",
    "\n",
    "    matched_files.sort(key=lambda x: (x[0][0], x[0][1]))\n",
    "\n",
    "    return [f[1] for f in matched_files]\n",
    "\n",
    "data_folder = \"Data Files\"\n",
    "\n",
    "(\n",
    "    term_1_file_application_details_filename,\n",
    "    term_2_file_application_details_filename,\n",
    "    term_3_file_application_details_filename,\n",
    "    term_4_file_application_details_filename,\n",
    ") = get_chronological_applications_reports_details_files(data_folder)\n",
    "\n",
    "print(\"Term 1 Applications Reports Details:\", term_1_file_application_details_filename)\n",
    "print(\"Term 2 Applications Reports Details:\", term_2_file_application_details_filename)\n",
    "print(\"Term 3 Applications Reports Details:\", term_3_file_application_details_filename)\n",
    "print(\"Term 4 Applications Reports Details:\", term_4_file_application_details_filename)"
   ]
  },
  {
   "cell_type": "code",
   "execution_count": 37,
   "id": "8c7ea5cd",
   "metadata": {},
   "outputs": [
    {
     "name": "stdout",
     "output_type": "stream",
     "text": [
      "✅ File Data Files\\zTestingData-Application Comparative -Summer 2025 as of June 02, 2025.xlsx loaded successfully. Sheet name: Application Comparative\n",
      "✅ File Data Files\\zTestingData-Application Comparative -Fall 2025 as of June 02, 2025.xlsx loaded successfully. Sheet name: Application Comparative\n",
      "✅ File Data Files\\zTestingData-Application Comparative -Winter 2026 as of June 02, 2025.xlsx loaded successfully. Sheet name: Application Comparative\n",
      "✅ File Data Files\\zTestingData-Application Comparative -Spring 2026 as of June 02, 2025.xlsx loaded successfully. Sheet name: Application Comparative\n"
     ]
    }
   ],
   "source": [
    "check_single_sheet(term_1_file_application_comparative_filename)\n",
    "check_single_sheet(term_2_file_application_comparative_filename)\n",
    "check_single_sheet(term_3_file_application_comparative_filename)\n",
    "check_single_sheet(term_4_file_application_comparative_filename)"
   ]
  },
  {
   "cell_type": "code",
   "execution_count": 38,
   "id": "a5b5e97e",
   "metadata": {},
   "outputs": [
    {
     "name": "stdout",
     "output_type": "stream",
     "text": [
      "✅ File Data Files\\zTestingData-Application Comparative -Spring 2026 as of June 02, 2025.xlsx loaded successfully. Sheet name: Application Comparative\n",
      "testing\n",
      " None\n"
     ]
    }
   ],
   "source": [
    "print(\"testing\\n\", check_single_sheet(term_4_file_application_comparative_filename))"
   ]
  },
  {
   "cell_type": "code",
   "execution_count": 39,
   "id": "fed86cd3",
   "metadata": {},
   "outputs": [],
   "source": [
    "#Data check term_1_file_application_comparative\n",
    "\n",
    "#Empty lists for storing found errors and warnings\n",
    "term_1_file_application_comparative_errors = []\n",
    "term_1_file_application_comparative_warnings = []\n",
    "term_1_file_application_details_errors = []\n",
    "term_1_file_application_details_warnings = []\n",
    "\n",
    "term_2_file_application_comparative_errors = []\n",
    "term_2_file_application_comparative_warnings = []\n",
    "term_2_file_application_details_errors = []\n",
    "term_2_file_application_details_warnings = []\n",
    "\n",
    "term_3_file_application_comparative_errors = []\n",
    "term_3_file_application_comparative_warnings = []\n",
    "term_3_file_application_details_errors = []\n",
    "term_3_file_application_details_warnings = []\n",
    "\n",
    "term_4_file_application_comparative_errors = []\n",
    "term_4_file_application_comparative_warnings = []\n",
    "term_4_file_application_details_errors = []\n",
    "term_4_file_application_details_warnings = []\n",
    "\n"
   ]
  }
 ],
 "metadata": {
  "kernelspec": {
   "display_name": "Python 3",
   "language": "python",
   "name": "python3"
  },
  "language_info": {
   "codemirror_mode": {
    "name": "ipython",
    "version": 3
   },
   "file_extension": ".py",
   "mimetype": "text/x-python",
   "name": "python",
   "nbconvert_exporter": "python",
   "pygments_lexer": "ipython3",
   "version": "3.13.0"
  }
 },
 "nbformat": 4,
 "nbformat_minor": 5
}
