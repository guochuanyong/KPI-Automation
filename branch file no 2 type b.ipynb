{
 "cells": [
  {
   "cell_type": "code",
   "execution_count": null,
   "id": "8984733b",
   "metadata": {},
   "outputs": [],
   "source": [
    "print('hello r')"
   ]
  }
 ],
 "metadata": {
  "language_info": {
   "name": "python"
  }
 },
 "nbformat": 4,
 "nbformat_minor": 5
}
