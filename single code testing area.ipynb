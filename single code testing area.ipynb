{
 "cells": [
  {
   "cell_type": "code",
   "execution_count": 20,
   "id": "728570ab",
   "metadata": {},
   "outputs": [
    {
     "name": "stdout",
     "output_type": "stream",
     "text": [
      "a: 4\n",
      "true 2\n"
     ]
    }
   ],
   "source": [
    "import pandas as pd\n",
    "df_enrolment = pd.read_excel(\"FLE testing data.xlsx\", sheet_name='CLEAN Data')\n",
    "df_enrolment_filtered_full_Fall=df_enrolment[\n",
    "    (df_enrolment['FULL_PART'].str.replace(' ','').str.upper().isin(['FULL'])) &\n",
    "    (df_enrolment['ACADEMIC_TERM'].str.replace(' ','').str.upper().isin(['FALL'])) &\n",
    "    (df_enrolment['ACADEMIC_YEAR'].astype(str).str.strip() == str(2025)) &\n",
    "    (~df_enrolment['CURRICULUM'].str.replace(' ','').str.upper().isin(['ABC', 'UNKNOWN']))\n",
    "]\n",
    "df_enrolment_filtered_full_Fall\n",
    "\n",
    "headcount_per_curriculum = df_enrolment_filtered_full_Fall.groupby('CURRICULUM')['PEOPLE_CODE_ID'].nunique()\n",
    "headcount_per_curriculumtrueunique = df_enrolment_filtered_full_Fall['PEOPLE_CODE_ID'].nunique()\n",
    "\n",
    "total_headcount = headcount_per_curriculum.sum()\n",
    "print('a:',total_headcount)\n",
    "print('true', headcount_per_curriculumtrueunique)"
   ]
  },
  {
   "cell_type": "code",
   "execution_count": 33,
   "id": "fe88c572",
   "metadata": {},
   "outputs": [
    {
     "data": {
      "text/plain": [
       "'an'"
      ]
     },
     "execution_count": 33,
     "metadata": {},
     "output_type": "execute_result"
    }
   ],
   "source": [
    "variable1 = ' 8.5'\n",
    "try:\n",
    "    if str(variable1).strip().startswith('8'):\n",
    "        a_an = \"an\"\n",
    "    else:\n",
    "        a_an = \"a\"\n",
    "\n",
    "except Exception: \n",
    "    a_an = \"a\"\n",
    "\n",
    "a_an"
   ]
  },
  {
   "cell_type": "code",
   "execution_count": 55,
   "id": "3865f8fb",
   "metadata": {},
   "outputs": [
    {
     "name": "stdout",
     "output_type": "stream",
     "text": [
      "84.7\n"
     ]
    },
    {
     "data": {
      "text/plain": [
       "float"
      ]
     },
     "execution_count": 55,
     "metadata": {},
     "output_type": "execute_result"
    }
   ],
   "source": [
    "variable_Current_enrolment_total_FLE_projection = \"84.700\"\n",
    "Enrolment_total_FLE_projection = float(variable_Current_enrolment_total_FLE_projection)\n",
    "\n",
    "print(Enrolment_total_FLE_projection)\n",
    "type(Enrolment_total_FLE_projection)"
   ]
  },
  {
   "cell_type": "code",
   "execution_count": 56,
   "id": "de1b3ca3",
   "metadata": {},
   "outputs": [
    {
     "data": {
      "text/plain": [
       "'Advanced Care Paramedic'"
      ]
     },
     "execution_count": 56,
     "metadata": {},
     "output_type": "execute_result"
    }
   ],
   "source": [
    "#Program Map for active programs in the current academic year\n",
    "\n",
    "active_program_map = {\n",
    "    #School of University Studies, Career Programs and Academic Upgrading\n",
    "    \"BABUSC\" : \"Business Administration Certificate\",\n",
    "    \"BAACTD\" : \"Business Administration Diploma - Accounting \",\n",
    "    \"BABUSD\" : \"Business Administration Diploma - Management\",\n",
    "    \"BAESPM\" : \"Business Administration Diploma - Esport Management\",\n",
    "    \"BAHRMD\" : \"Business Administration Diploma - Human Resources Management\",\n",
    "    \"GSCMD\" : \"Global Supply Chain Management Diploma\",\n",
    "    \"BAATCO\" : \"Business Administration Diploma - Accounting Co-op\",\n",
    "    \"BABSCO\" : \"Business Administration Diploma - Management Co-op\",\n",
    "    \"HATM\" : \"Hospitality and Tourism Management Diploma\",\n",
    "    \"HOSMNG\" : \"Hospitality Management Diploma\",\n",
    "    \"NAO\" : \"Business Aviation Diploma (Northern Aviation Operations)\",\n",
    "    \"ALO\" : \"Business Aviation Diploma (Airline Operations)\",\n",
    "    \"BAHRMC\" : \"Human Resources Management Certificate\",\n",
    "    \"OFAC\" : \"Office Administration Certificate\",\n",
    "    \"HSAFA\" : \"Academic Foundations\",\n",
    "    \"HSAD\" : \"Advanced High School Equivalency\",\n",
    "    \"HSNP\" : \"College Preparation\",\n",
    "    \"EAP\" : \"English For Academic Purposes\",\n",
    "    \"HSGD\" : \"General High School Equivalency\",\n",
    "    \"UTELEM\" : \"University Transfer: Bachelor of Elementary Education\",\n",
    "    \"UTSEC\" : \"University Transfer: Bachelor of Secondary Education\",\n",
    "    \"ENVTD\" : \"Environmental Technology Co-op Diploma\",\n",
    "    \"ENVNC\" : \"Environmental Technology Diploma\",\n",
    "    \"COMSCC\" : \"Computer Systems Technology Certificate\",\n",
    "    \"COMSCD\" : \"Computer Systems Technology Diploma\",\n",
    "    \"GNARTC\" : \"General Arts Certificate\",\n",
    "    \"GNSCIC\" : \"General Science Certificate\",\n",
    "    \"GOVNSC\" : \"Governance and Civil Studies Diploma\",\n",
    "    \"NSPDC\" : \"Network Security Post-Diploma Certificate\",\n",
    "    \"UTARTS\" : \"University Transfer: Bachelor of Arts\",\n",
    "    \"UTCOMM\" : \"University Transfer: Bachelor of Commerce\",\n",
    "    \"UTENG\" : \"University Transfer: Bachelor of Engineering\",\n",
    "    \"UTSCGS\" : \"University Transfer: Bachelor of Science\",\n",
    "    \"UTSCWK\" : \"University Transfer: Bachelor of Social Work\",\n",
    "    \"OPEN\" : \"Open Studies\",\n",
    "\n",
    "    #School of Health & Human Services \n",
    "    \"AELCC\" : \"Applied Early Learning and Child Care Certificate\",\n",
    "    \"ECCERT\" : \"Early Learning and Child Care Certificate\",\n",
    "    \"ECDIP\" : \"Early Learning and Child Care Diploma\",\n",
    "    \"CYCD\" : \"Child and Youth Care Diploma\",\n",
    "    \"ECEAC\" : \"Educational Assistant Certificate\",\n",
    "    \"SOCWKD\" : \"Social Work Diploma\",\n",
    "    \"HCAC\" : \"Health Care Aide\",\n",
    "    \"ACP\" : \"Advanced Care Paramedic\",\n",
    "    \"PCPC\" : \"Primary Care Paramedic\",\n",
    "    \"PNR\" : \"Practical Nurse Diploma\",\n",
    "    \"BSCN\" : \"University Transfer: Bachelor of Nursing\",\n",
    "    \"BSCACN\" : \"University Transfer: Bachelor of Nursing\",\n",
    "    \"BSCAFT\" : \"University Transfer: Bachelor of Nursing\",\n",
    "    \"BSCAEE\" : \"University Transfer: Bachelor of Nursing\",\n",
    "    \"IENCN\" : \"IEN Bridge to Canadian Nursing\",\n",
    "\n",
    "    #School of Trades and Heavy Industrial\n",
    "    \"AELEC\" : \"Apprenticeship Electrician\",\n",
    "    \"AHD\" : \"Apprenticeship Heavy Equipment Technician\",\n",
    "    \"AMILL\" : \"Apprenticeship Industrial Mechanic (Millwright)\",\n",
    "    \"ASTEAM\" : \"Apprenticeship Steamfitter-Pipefitter\",\n",
    "    \"AWELD\" : \"Apprenticeship Welder\",\n",
    "    \"POWCM3\" : \"Power Engineering 3rd Class CML\",\n",
    "    \"POWCM4\" : \"Power Engineering 4th Class CML\",\n",
    "    \"POWCO3\" : \"Power Engineering 3rd Class Co-op\",\n",
    "    \"POWCO4\" : \"Power Engineering 4th Class Co-op\",\n",
    "    \"POWCP4\" : \"Power Engineering 4th Class Comprehensive\",\n",
    "    \"PPET\" : \"Power and Process Technologies\",\n",
    "    \"PACARP\" : \"Pre-employment Carpentry\",\n",
    "    \"PAELEC\" : \"Pre-employment Electrician\",\n",
    "    \"PAHET\" : \"Pre-employment HET\",\n",
    "    \"PAPLUM\" : \"Pre-employment Gasfitter\",\n",
    "    \"PAWELD\" : \"Pre-employment Welder\",\n",
    "\n",
    "    #Language Instruction for Newcomers to Canada (LINC)\n",
    "    \"LINC13\" : \"Language Instruction for Newcomers to Canada\"\n",
    "}\n",
    "\n",
    "variable1 = \"ACP\"\n",
    "variable2 = active_program_map[variable1]\n",
    "variable2"
   ]
  }
 ],
 "metadata": {
  "kernelspec": {
   "display_name": "Python 3",
   "language": "python",
   "name": "python3"
  },
  "language_info": {
   "codemirror_mode": {
    "name": "ipython",
    "version": 3
   },
   "file_extension": ".py",
   "mimetype": "text/x-python",
   "name": "python",
   "nbconvert_exporter": "python",
   "pygments_lexer": "ipython3",
   "version": "3.13.0"
  }
 },
 "nbformat": 4,
 "nbformat_minor": 5
}
