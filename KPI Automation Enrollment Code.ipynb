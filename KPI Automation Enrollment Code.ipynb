{
 "cells": [
  {
   "cell_type": "code",
   "execution_count": 1,
   "id": "e5ddd2b1",
   "metadata": {},
   "outputs": [
    {
     "name": "stdout",
     "output_type": "stream",
     "text": [
      "this is for the purpose of testing\n"
     ]
    }
   ],
   "source": [
    "print(\"this is for the purpose of testing\")"
   ]
  },
  {
   "cell_type": "code",
   "execution_count": 3,
   "id": "cb0086b2",
   "metadata": {},
   "outputs": [
    {
     "data": {
      "text/plain": [
       "str"
      ]
     },
     "execution_count": 3,
     "metadata": {},
     "output_type": "execute_result"
    }
   ],
   "source": [
    "variable1 = \"2025-26\"  # guaranteed input format\n",
    "\n",
    "# Split and extract last 2 digits of the first part\n",
    "parts = variable1.split(\"-\")\n",
    "variable2 = f\"{parts[0][-2:]}-{parts[1]}\"\n",
    "\n",
    "type(variable2)  # Output: \"25-26\""
   ]
  }
 ],
 "metadata": {
  "kernelspec": {
   "display_name": "Python 3",
   "language": "python",
   "name": "python3"
  },
  "language_info": {
   "codemirror_mode": {
    "name": "ipython",
    "version": 3
   },
   "file_extension": ".py",
   "mimetype": "text/x-python",
   "name": "python",
   "nbconvert_exporter": "python",
   "pygments_lexer": "ipython3",
   "version": "3.13.0"
  }
 },
 "nbformat": 4,
 "nbformat_minor": 5
}
